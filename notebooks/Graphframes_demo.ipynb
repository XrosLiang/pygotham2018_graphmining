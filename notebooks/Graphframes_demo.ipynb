{
 "cells": [
  {
   "cell_type": "code",
   "execution_count": 1,
   "metadata": {},
   "outputs": [],
   "source": [
    "import os\n",
    "os.environ['PYSPARK_SUBMIT_ARGS'] = '--packages graphframes:graphframes:0.6.0-spark2.3-s_2.11 pyspark-shell'\n",
    "\n",
    "import pyspark\n",
    "from pyspark.sql import *\n",
    "from pyspark.sql.functions import udf"
   ]
  },
  {
   "cell_type": "code",
   "execution_count": 2,
   "metadata": {},
   "outputs": [],
   "source": [
    "sc = pyspark.SparkContext(\"local[*]\")\n",
    "spark = SparkSession.builder.appName('notebook').getOrCreate()"
   ]
  },
  {
   "cell_type": "code",
   "execution_count": 3,
   "metadata": {},
   "outputs": [],
   "source": [
    "from graphframes import *\n",
    "import hashlib"
   ]
  },
  {
   "cell_type": "code",
   "execution_count": null,
   "metadata": {},
   "outputs": [],
   "source": []
  },
  {
   "cell_type": "markdown",
   "metadata": {},
   "source": [
    "### Load sample webgraph"
   ]
  },
  {
   "cell_type": "code",
   "execution_count": 4,
   "metadata": {},
   "outputs": [
    {
     "data": {
      "text/plain": [
       "18399"
      ]
     },
     "execution_count": 4,
     "metadata": {},
     "output_type": "execute_result"
    }
   ],
   "source": [
    "# This dataset is already filtered to include only links between TLDs, not within TLDs. \n",
    "# I also filtered out common sites and resources for a cleaner sample graph.\n",
    "raw_data = spark.read.parquet(\"data/outlinks_pq/*.snappy.parquet\")\n",
    "raw_data.count()"
   ]
  },
  {
   "cell_type": "code",
   "execution_count": 5,
   "metadata": {},
   "outputs": [],
   "source": [
    "# Rename columns to something decent. \n",
    "df = raw_data.withColumnRenamed(\"_c0\", \"parent\")\\\n",
    ".withColumnRenamed(\"_c1\", \"parentTLD\")\\\n",
    ".withColumnRenamed(\"_c2\", \"childTLD\")\\\n",
    ".withColumnRenamed(\"_c3\", \"child\")\\\n",
    ".filter(\"parentTLD is not null and childTLD is not null\")"
   ]
  },
  {
   "cell_type": "code",
   "execution_count": 6,
   "metadata": {},
   "outputs": [
    {
     "name": "stdout",
     "output_type": "stream",
     "text": [
      "+--------------+---------+----------------+--------------------+\n",
      "|        parent|parentTLD|        childTLD|               child|\n",
      "+--------------+---------+----------------+--------------------+\n",
      "|http://msn.com|  msn.com|tradedoubler.com|https://clk.trade...|\n",
      "|http://msn.com|  msn.com|   microsoft.com|https://go.micros...|\n",
      "|http://msn.com|  msn.com|     outlook.com|http://www.outloo...|\n",
      "|http://msn.com|  msn.com|   microsoft.com|https://advertisi...|\n",
      "|http://msn.com|  msn.com|tradedoubler.com|https://clk.trade...|\n",
      "+--------------+---------+----------------+--------------------+\n",
      "only showing top 5 rows\n",
      "\n"
     ]
    }
   ],
   "source": [
    "df.show(5)"
   ]
  },
  {
   "cell_type": "code",
   "execution_count": 7,
   "metadata": {},
   "outputs": [
    {
     "data": {
      "text/plain": [
       "4613"
      ]
     },
     "execution_count": 7,
     "metadata": {},
     "output_type": "execute_result"
    }
   ],
   "source": [
    "# Select set of parents and children TLDs (your nodes) to assign id for each node.\n",
    "\n",
    "aggcodes = df.select(\"parentTLD\",\"childTLD\").rdd.flatMap(lambda x: x).distinct()\n",
    "aggcodes.count()"
   ]
  },
  {
   "cell_type": "code",
   "execution_count": 8,
   "metadata": {},
   "outputs": [],
   "source": [
    "def hashnode(x):\n",
    "    return hashlib.sha1(x.encode(\"UTF-8\")).hexdigest()[:8]\n",
    "\n",
    "hashnode_udf = udf(hashnode)"
   ]
  },
  {
   "cell_type": "code",
   "execution_count": 9,
   "metadata": {},
   "outputs": [
    {
     "name": "stdout",
     "output_type": "stream",
     "text": [
      "+--------+----------------+\n",
      "|      id|            name|\n",
      "+--------+----------------+\n",
      "|000db143|         msn.com|\n",
      "|51a48ea2|tradedoubler.com|\n",
      "|31312317|   microsoft.com|\n",
      "|a45016f2|     outlook.com|\n",
      "|2f5bf4c8|        bing.com|\n",
      "+--------+----------------+\n",
      "only showing top 5 rows\n",
      "\n"
     ]
    }
   ],
   "source": [
    "vertices = aggcodes.map(lambda x: (hashnode(x), x)).toDF([\"id\",\"name\"])\n",
    "\n",
    "vertices.show(5)"
   ]
  },
  {
   "cell_type": "code",
   "execution_count": 10,
   "metadata": {},
   "outputs": [
    {
     "name": "stdout",
     "output_type": "stream",
     "text": [
      "+--------+--------+\n",
      "|     src|     dst|\n",
      "+--------+--------+\n",
      "|000db143|51a48ea2|\n",
      "|000db143|31312317|\n",
      "|000db143|a45016f2|\n",
      "|000db143|31312317|\n",
      "|000db143|51a48ea2|\n",
      "+--------+--------+\n",
      "only showing top 5 rows\n",
      "\n"
     ]
    }
   ],
   "source": [
    "edges = df.select(\"parentTLD\",\"childTLD\")\\\n",
    ".withColumn(\"src\", hashnode_udf(\"parentTLD\"))\\\n",
    ".withColumn(\"dst\", hashnode_udf(\"childTLD\"))\\\n",
    ".select(\"src\",\"dst\")\n",
    "\n",
    "edges.show(5)"
   ]
  },
  {
   "cell_type": "code",
   "execution_count": 15,
   "metadata": {},
   "outputs": [],
   "source": [
    "# create GraphFrame\n",
    "graph = GraphFrame(vertices, edges)"
   ]
  },
  {
   "cell_type": "code",
   "execution_count": 17,
   "metadata": {},
   "outputs": [
    {
     "data": {
      "text/plain": [
       "GraphFrame(v:[id: string, name: string], e:[src: string, dst: string])"
      ]
     },
     "execution_count": 17,
     "metadata": {},
     "output_type": "execute_result"
    }
   ],
   "source": [
    "graph"
   ]
  },
  {
   "cell_type": "markdown",
   "metadata": {},
   "source": [
    "### Label Propagation Algorithm"
   ]
  },
  {
   "cell_type": "code",
   "execution_count": null,
   "metadata": {},
   "outputs": [],
   "source": [
    "# Run LPA\n",
    "communities = graph.labelPropagation(maxIter=5)"
   ]
  },
  {
   "cell_type": "code",
   "execution_count": null,
   "metadata": {},
   "outputs": [],
   "source": [
    "communities.persist().show(10)"
   ]
  },
  {
   "cell_type": "code",
   "execution_count": null,
   "metadata": {},
   "outputs": [],
   "source": [
    "print (f\"There are {communities.select('label').distinct().count()} communities in sample graph.\")"
   ]
  },
  {
   "cell_type": "markdown",
   "metadata": {},
   "source": [
    "### Degrees and PageRank"
   ]
  },
  {
   "cell_type": "code",
   "execution_count": 16,
   "metadata": {},
   "outputs": [
    {
     "name": "stdout",
     "output_type": "stream",
     "text": [
      "+--------+--------+-------------+\n",
      "|      id|inDegree|         name|\n",
      "+--------+--------+-------------+\n",
      "|465806fb|    1223|  twitter.com|\n",
      "|b7c70898|    1154| facebook.com|\n",
      "|baea954b|     584|   google.com|\n",
      "|d84f4904|     374|pinterest.com|\n",
      "|366b6783|     358|       sky.it|\n",
      "|06252e37|     295|instagram.com|\n",
      "|d7e222c8|     266|  youtube.com|\n",
      "|1a8028a6|     172|        po.st|\n",
      "|cd0cf82b|     167|    zoznam.sk|\n",
      "|de740f90|     148|    apple.com|\n",
      "+--------+--------+-------------+\n",
      "only showing top 10 rows\n",
      "\n"
     ]
    }
   ],
   "source": [
    "# Count nodes by number of in-degrees\n",
    "\n",
    "graph.inDegrees.join(vertices, on=\"id\")\\\n",
    ".orderBy(\"inDegree\", ascending=False).show(10)"
   ]
  },
  {
   "cell_type": "code",
   "execution_count": 17,
   "metadata": {},
   "outputs": [
    {
     "name": "stdout",
     "output_type": "stream",
     "text": [
      "+--------+------------------+-------------+\n",
      "|      id|          pagerank|         name|\n",
      "+--------+------------------+-------------+\n",
      "|15a17dcc| 72.02193053242661|messenger.com|\n",
      "|b7c70898| 71.82925336390569| facebook.com|\n",
      "|465806fb| 62.38821611443578|  twitter.com|\n",
      "|d7e222c8| 47.78395449650086|  youtube.com|\n",
      "|baea954b|29.768891546015652|   google.com|\n",
      "|06252e37|21.365246391507494|instagram.com|\n",
      "|d84f4904|13.619116925738885|pinterest.com|\n",
      "|de740f90|10.538651654351058|    apple.com|\n",
      "|1b274516| 4.731072973007598| linkedin.com|\n",
      "|f0a549e2|4.4062056573357875|        ds.tl|\n",
      "+--------+------------------+-------------+\n",
      "only showing top 10 rows\n",
      "\n"
     ]
    }
   ],
   "source": [
    "# Run PageRank\n",
    "\n",
    "results = graph.pageRank(resetProbability=0.01, maxIter=20)\n",
    "results.vertices.select(\"id\", \"pagerank\")\\\n",
    ".join(vertices, on=\"id\").orderBy(\"pagerank\", ascending=False)\\\n",
    ".show(10)"
   ]
  },
  {
   "cell_type": "code",
   "execution_count": null,
   "metadata": {},
   "outputs": [],
   "source": []
  }
 ],
 "metadata": {
  "kernelspec": {
   "display_name": "Python 3",
   "language": "python",
   "name": "python3"
  },
  "language_info": {
   "codemirror_mode": {
    "name": "ipython",
    "version": 3
   },
   "file_extension": ".py",
   "mimetype": "text/x-python",
   "name": "python",
   "nbconvert_exporter": "python",
   "pygments_lexer": "ipython3",
   "version": "3.6.3"
  }
 },
 "nbformat": 4,
 "nbformat_minor": 2
}

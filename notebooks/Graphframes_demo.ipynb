{
 "cells": [
  {
   "cell_type": "code",
   "execution_count": 1,
   "metadata": {},
   "outputs": [],
   "source": [
    "import os\n",
    "os.environ['PYSPARK_SUBMIT_ARGS'] = '--packages graphframes:graphframes:0.6.0-spark2.3-s_2.11 pyspark-shell'\n",
    "\n",
    "import pyspark\n",
    "sc = pyspark.SparkContext(\"local[*]\")"
   ]
  },
  {
   "cell_type": "code",
   "execution_count": 2,
   "metadata": {},
   "outputs": [],
   "source": [
    "from graphframes import *\n",
    "import hashlib\n",
    "from pyspark.sql import *\n",
    "from pyspark.sql.functions import udf"
   ]
  },
  {
   "cell_type": "code",
   "execution_count": 3,
   "metadata": {},
   "outputs": [],
   "source": [
    "# Play with a dummy graph.\n",
    "spark = SparkSession.builder.appName('fun').getOrCreate()\n",
    "vertices = spark.createDataFrame([('1', 'Carter', 'Derrick', 50), \n",
    "                                  ('2', 'May', 'Derrick', 26),\n",
    "                                 ('3', 'Mills', 'Jeff', 80),\n",
    "                                  ('4', 'Hood', 'Robert', 65),\n",
    "                                  ('5', 'Banks', 'Mike', 93),\n",
    "                                 ('98', 'Berg', 'Tim', 28),\n",
    "                                 ('99', 'Page', 'Allan', 16)],\n",
    "                                 ['id', 'name', 'firstname', 'age'])\n",
    "edges = spark.createDataFrame([('1', '2', 'friend'), \n",
    "                               ('2', '1', 'friend'),\n",
    "                              ('3', '1', 'friend'),\n",
    "                              ('1', '3', 'friend'),\n",
    "                               ('2', '3', 'follows'),\n",
    "                               ('3', '4', 'friend'),\n",
    "                               ('4', '3', 'friend'),\n",
    "                               ('5', '3', 'friend'),\n",
    "                               ('3', '5', 'friend'),\n",
    "                               ('4', '5', 'follows'),\n",
    "                              ('98', '99', 'friend'),\n",
    "                              ('99', '98', 'friend')],\n",
    "                              ['src', 'dst', 'type'])"
   ]
  },
  {
   "cell_type": "code",
   "execution_count": 4,
   "metadata": {},
   "outputs": [],
   "source": [
    "g = GraphFrame(vertices, edges)"
   ]
  },
  {
   "cell_type": "code",
   "execution_count": 5,
   "metadata": {},
   "outputs": [],
   "source": [
    "g?"
   ]
  },
  {
   "cell_type": "code",
   "execution_count": 6,
   "metadata": {},
   "outputs": [],
   "source": [
    "result = g.labelPropagation(maxIter=5)"
   ]
  },
  {
   "cell_type": "code",
   "execution_count": 7,
   "metadata": {},
   "outputs": [
    {
     "name": "stdout",
     "output_type": "stream",
     "text": [
      "+---+------------+\n",
      "| id|       label|\n",
      "+---+------------+\n",
      "|  1|154618822656|\n",
      "|  3|420906795008|\n",
      "|  2|420906795008|\n",
      "|  4|154618822656|\n",
      "| 98|326417514496|\n",
      "|  5|154618822656|\n",
      "| 99|317827579904|\n",
      "+---+------------+\n",
      "\n"
     ]
    }
   ],
   "source": [
    "result.select(\"id\", \"label\").show()"
   ]
  },
  {
   "cell_type": "code",
   "execution_count": null,
   "metadata": {},
   "outputs": [],
   "source": []
  },
  {
   "cell_type": "markdown",
   "metadata": {},
   "source": [
    "### Load sample webgraph"
   ]
  },
  {
   "cell_type": "code",
   "execution_count": 8,
   "metadata": {},
   "outputs": [
    {
     "data": {
      "text/plain": [
       "18399"
      ]
     },
     "execution_count": 8,
     "metadata": {},
     "output_type": "execute_result"
    }
   ],
   "source": [
    "# This dataset is already filtered to include only links between TLDs, not within TLDs. \n",
    "# I also filtered out common sites and resources for a cleaner sample graph.\n",
    "raw_data = spark.read.parquet(\"data/outlinks_pq/*.snappy.parquet\")\n",
    "raw_data.count()"
   ]
  },
  {
   "cell_type": "code",
   "execution_count": 9,
   "metadata": {},
   "outputs": [],
   "source": [
    "# Rename columns to something decent. \n",
    "df = raw_data.withColumnRenamed(\"_c0\", \"parent\")\\\n",
    ".withColumnRenamed(\"_c1\", \"parentTLD\")\\\n",
    ".withColumnRenamed(\"_c2\", \"childTLD\")\\\n",
    ".withColumnRenamed(\"_c3\", \"child\")\\\n",
    ".filter(\"parentTLD is not null and childTLD is not null\")"
   ]
  },
  {
   "cell_type": "code",
   "execution_count": 10,
   "metadata": {},
   "outputs": [
    {
     "name": "stdout",
     "output_type": "stream",
     "text": [
      "+--------------+---------+----------------+--------------------+\n",
      "|        parent|parentTLD|        childTLD|               child|\n",
      "+--------------+---------+----------------+--------------------+\n",
      "|http://msn.com|  msn.com|tradedoubler.com|https://clk.trade...|\n",
      "|http://msn.com|  msn.com|   microsoft.com|https://go.micros...|\n",
      "|http://msn.com|  msn.com|     outlook.com|http://www.outloo...|\n",
      "|http://msn.com|  msn.com|   microsoft.com|https://advertisi...|\n",
      "|http://msn.com|  msn.com|tradedoubler.com|https://clk.trade...|\n",
      "+--------------+---------+----------------+--------------------+\n",
      "only showing top 5 rows\n",
      "\n"
     ]
    }
   ],
   "source": [
    "df.show(5)"
   ]
  },
  {
   "cell_type": "code",
   "execution_count": 11,
   "metadata": {},
   "outputs": [
    {
     "data": {
      "text/plain": [
       "4613"
      ]
     },
     "execution_count": 11,
     "metadata": {},
     "output_type": "execute_result"
    }
   ],
   "source": [
    "# Select set of parents and children TLDs (your nodes) to assign id for each node.\n",
    "\n",
    "aggcodes = df.select(\"parentTLD\",\"childTLD\").rdd.flatMap(lambda x: x).distinct()\n",
    "aggcodes.count()"
   ]
  },
  {
   "cell_type": "code",
   "execution_count": 12,
   "metadata": {},
   "outputs": [],
   "source": [
    "def hashnode(x):\n",
    "    return hashlib.sha1(x.encode(\"UTF-8\")).hexdigest()[:8]\n",
    "\n",
    "hashnode_udf = udf(hashnode)"
   ]
  },
  {
   "cell_type": "code",
   "execution_count": 14,
   "metadata": {},
   "outputs": [
    {
     "name": "stdout",
     "output_type": "stream",
     "text": [
      "+--------+----------------+\n",
      "|      id|            name|\n",
      "+--------+----------------+\n",
      "|000db143|         msn.com|\n",
      "|51a48ea2|tradedoubler.com|\n",
      "|31312317|   microsoft.com|\n",
      "|a45016f2|     outlook.com|\n",
      "|2f5bf4c8|        bing.com|\n",
      "+--------+----------------+\n",
      "only showing top 5 rows\n",
      "\n"
     ]
    }
   ],
   "source": [
    "vertices = aggcodes.map(lambda x: (hashnode(x), x)).toDF([\"id\",\"name\"])\n",
    "\n",
    "vertices.show(5)"
   ]
  },
  {
   "cell_type": "code",
   "execution_count": 15,
   "metadata": {},
   "outputs": [
    {
     "name": "stdout",
     "output_type": "stream",
     "text": [
      "+--------+--------+\n",
      "|     src|     dst|\n",
      "+--------+--------+\n",
      "|000db143|51a48ea2|\n",
      "|000db143|31312317|\n",
      "|000db143|a45016f2|\n",
      "|000db143|31312317|\n",
      "|000db143|51a48ea2|\n",
      "+--------+--------+\n",
      "only showing top 5 rows\n",
      "\n"
     ]
    }
   ],
   "source": [
    "edges = df.select(\"parentTLD\",\"childTLD\")\\\n",
    ".withColumn(\"src\", hashnode_udf(\"parentTLD\"))\\\n",
    ".withColumn(\"dst\", hashnode_udf(\"childTLD\"))\\\n",
    ".select(\"src\",\"dst\")\n",
    "\n",
    "edges.show(5)"
   ]
  },
  {
   "cell_type": "code",
   "execution_count": 16,
   "metadata": {},
   "outputs": [],
   "source": [
    "# create GraphFrame\n",
    "graph = GraphFrame(vertices, edges)"
   ]
  },
  {
   "cell_type": "code",
   "execution_count": 17,
   "metadata": {},
   "outputs": [],
   "source": [
    "# Run LPA\n",
    "communities = graph.labelPropagation(maxIter=5)"
   ]
  },
  {
   "cell_type": "code",
   "execution_count": 18,
   "metadata": {},
   "outputs": [
    {
     "name": "stdout",
     "output_type": "stream",
     "text": [
      "+--------+--------------------+-------------+\n",
      "|      id|                name|        label|\n",
      "+--------+--------------------+-------------+\n",
      "|407ae1cc|             coop.no| 781684047881|\n",
      "|1b0357be|  buenacuerdo.com.ar|1245540515843|\n",
      "|acc8136a|   toptenreviews.com|1537598291986|\n",
      "|abdd63cd| liberoquotidiano.it| 317827579915|\n",
      "|db5c0434|          meetme.com| 712964571162|\n",
      "|0f8dff85|           ameblo.jp| 171798691842|\n",
      "|b6b04a58|             tlnk.io|1632087572480|\n",
      "|5bcfd421|         wowhead.com| 429496729618|\n",
      "|b4d4008d|investingcontrari...| 919123001350|\n",
      "|ce7a3185|   pokemoncentral.it|1511828488194|\n",
      "+--------+--------------------+-------------+\n",
      "only showing top 10 rows\n",
      "\n"
     ]
    }
   ],
   "source": [
    "communities.persist().show(10)"
   ]
  },
  {
   "cell_type": "code",
   "execution_count": 19,
   "metadata": {},
   "outputs": [
    {
     "name": "stdout",
     "output_type": "stream",
     "text": [
      "There are 628 communities in sample graph.\n"
     ]
    }
   ],
   "source": [
    "print (f\"There are {communities.select('label').distinct().count()} communities in sample graph.\")"
   ]
  },
  {
   "cell_type": "code",
   "execution_count": null,
   "metadata": {},
   "outputs": [],
   "source": []
  }
 ],
 "metadata": {
  "kernelspec": {
   "display_name": "Python 3",
   "language": "python",
   "name": "python3"
  },
  "language_info": {
   "codemirror_mode": {
    "name": "ipython",
    "version": 3
   },
   "file_extension": ".py",
   "mimetype": "text/x-python",
   "name": "python",
   "nbconvert_exporter": "python",
   "pygments_lexer": "ipython3",
   "version": "3.6.3"
  }
 },
 "nbformat": 4,
 "nbformat_minor": 2
}
